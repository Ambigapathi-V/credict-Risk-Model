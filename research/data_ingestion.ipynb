{
 "cells": [
  {
   "cell_type": "code",
   "execution_count": 1,
   "metadata": {},
   "outputs": [],
   "source": [
    "import os"
   ]
  },
  {
   "cell_type": "code",
   "execution_count": 2,
   "metadata": {},
   "outputs": [
    {
     "data": {
      "text/plain": [
       "'c:\\\\Users\\\\ambig\\\\jupiter_notebook\\\\Projects\\\\Credit-Risk-Model\\\\research'"
      ]
     },
     "execution_count": 2,
     "metadata": {},
     "output_type": "execute_result"
    }
   ],
   "source": [
    "%pwd"
   ]
  },
  {
   "cell_type": "code",
   "execution_count": 3,
   "metadata": {},
   "outputs": [],
   "source": [
    "os.chdir(\"../\")\n"
   ]
  },
  {
   "cell_type": "code",
   "execution_count": 4,
   "metadata": {},
   "outputs": [
    {
     "data": {
      "text/plain": [
       "'c:\\\\Users\\\\ambig\\\\jupiter_notebook\\\\Projects\\\\Credit-Risk-Model'"
      ]
     },
     "execution_count": 4,
     "metadata": {},
     "output_type": "execute_result"
    }
   ],
   "source": [
    "%pwd"
   ]
  },
  {
   "cell_type": "code",
   "execution_count": 5,
   "metadata": {},
   "outputs": [],
   "source": [
    "from dataclasses import dataclass\n",
    "from pathlib import Path\n",
    "@dataclass\n",
    "\n",
    "class DataIngestionConfig:\n",
    "    root_dir : Path\n",
    "    customers_data : Path\n",
    "    loans_data : Path\n",
    "    bureau_data : Path\n",
    "    output_path : Path    "
   ]
  },
  {
   "cell_type": "code",
   "execution_count": 6,
   "metadata": {},
   "outputs": [
    {
     "name": "stdout",
     "output_type": "stream",
     "text": [
      "[2024-11-06 10:05:47,676] INFO: __init__ : 26] Credit Risk Model Building Started\n"
     ]
    }
   ],
   "source": [
    "from src.Credit_Risk_Model.constants import *\n",
    "from src.Credit_Risk_Model.utils.common import read_yaml,create_directories,load_df,save_df\n",
    "from  src.Credit_Risk_Model.logger import logger\n"
   ]
  },
  {
   "cell_type": "code",
   "execution_count": 7,
   "metadata": {},
   "outputs": [],
   "source": [
    "class ConfigurationManager:\n",
    "    def __init__(self, \n",
    "                 config_filepath=CONFIG_FILE_PATH,\n",
    "                 params_filepath=PARAMS_FILE_PATH,\n",
    "                 schema_filepath=SCHEMA_FILE_PATH):\n",
    "        self.config = read_yaml(config_filepath)\n",
    "        self.params = read_yaml(params_filepath)\n",
    "        self.schema = read_yaml(schema_filepath)\n",
    "        \n",
    "        create_directories([self.config.artifacts_root])\n",
    "        \n",
    "    def get_data_ingestion_config(self) -> DataIngestionConfig:\n",
    "        config = self.config.data_ingestion\n",
    "        create_directories([config.root_dir])\n",
    "        \n",
    "        data_ingestion_config = DataIngestionConfig(\n",
    "            root_dir=Path(config.root_dir),\n",
    "            customers_data=Path(config.customers_data),\n",
    "            loans_data=Path(config.loans_data),\n",
    "            bureau_data=Path(config.bureau_data),\n",
    "            output_path=Path(config.output_path)\n",
    "        )\n",
    "        return data_ingestion_config\n",
    "                           "
   ]
  },
  {
   "cell_type": "code",
   "execution_count": 8,
   "metadata": {},
   "outputs": [],
   "source": [
    "import os\n",
    "import pandas as pd\n",
    "from  src.Credit_Risk_Model.logger import logger\n",
    "\n",
    "class DataIngestion:\n",
    "    def __init__(self, config : DataIngestionConfig):\n",
    "        self.customers_data = config.customers_data\n",
    "        self.loans_data = config.loans_data\n",
    "        self.bureau_data = config.bureau_data\n",
    "        self.output_path = config.output_path\n",
    "    \n",
    "    def load_data(self):\n",
    "        logger.info(\"Loading customers data...\")\n",
    "        customers_df = load_df(self.customers_data)\n",
    "        \n",
    "        logger.info(\"Loading loans data...\")\n",
    "        loans_df = load_df(self.loans_data)\n",
    "        \n",
    "        logger.info(\"Loading bureau data...\")\n",
    "        bureau_df = load_df(self.bureau_data)\n",
    "        \n",
    "        logger.info(f\"The Shape of customers data: {customers_df.shape}\")\n",
    "        logger.info(f\"The Shape of loans data: {loans_df.shape}\")\n",
    "        logger.info(f\"The Shape of bureau data: {bureau_df.shape}\")\n",
    "        \n",
    "        df = pd.merge(customers_df, loans_df, on='cust_id')\n",
    "        df = pd.merge(df, bureau_df, on='cust_id')\n",
    "        \n",
    "        save_df(df=df, file_path=self.output_path)        \n",
    "    "
   ]
  },
  {
   "cell_type": "code",
   "execution_count": 9,
   "metadata": {},
   "outputs": [
    {
     "name": "stdout",
     "output_type": "stream",
     "text": [
      "[2024-11-06 10:05:48,348] INFO: common : 32] Successfully loaded yaml file: config\\config.yaml\n",
      "[2024-11-06 10:05:48,348] INFO: common : 32] Successfully loaded yaml file: params.yaml\n",
      "[2024-11-06 10:05:48,362] INFO: common : 32] Successfully loaded yaml file: schema.yaml\n",
      "[2024-11-06 10:05:48,364] INFO: common : 55] Created directory: artifacts\n",
      "[2024-11-06 10:05:48,366] INFO: common : 55] Created directory: artifacts/data_ingestion\n",
      "[2024-11-06 10:05:48,367] INFO: 334133869 : 13] Loading customers data...\n",
      "[2024-11-06 10:05:48,443] INFO: common : 79] Successfully loaded DataFrame from: data\\customers.csv\n",
      "[2024-11-06 10:05:48,444] INFO: 334133869 : 16] Loading loans data...\n",
      "[2024-11-06 10:05:48,556] INFO: common : 79] Successfully loaded DataFrame from: data\\loans.csv\n",
      "[2024-11-06 10:05:48,557] INFO: 334133869 : 19] Loading bureau data...\n",
      "[2024-11-06 10:05:48,579] INFO: common : 79] Successfully loaded DataFrame from: data\\bureau_data.csv\n",
      "[2024-11-06 10:05:48,579] INFO: 334133869 : 22] The Shape of customers data: (50000, 12)\n",
      "[2024-11-06 10:05:48,589] INFO: 334133869 : 23] The Shape of loans data: (50000, 15)\n",
      "[2024-11-06 10:05:48,590] INFO: 334133869 : 24] The Shape of bureau data: (50000, 8)\n",
      "[2024-11-06 10:05:49,036] INFO: common : 97] Successfully saved DataFrame to: artifacts\\data.csv\n",
      "[2024-11-06 10:05:49,039] INFO: 2613561423 : 10] Data ingestion completed successfully.\n"
     ]
    }
   ],
   "source": [
    "try:\n",
    "    # Load configurations\n",
    "    config = ConfigurationManager()\n",
    "    data_ingestion_config = config.get_data_ingestion_config()\n",
    "    \n",
    "    # Load data\n",
    "    data_ingestion = DataIngestion(data_ingestion_config)\n",
    "    data_ingestion.load_data()\n",
    "    \n",
    "    logger.info(\"Data ingestion completed successfully.\")\n",
    "    \n",
    "except Exception as e:\n",
    "    logger.error(f\"An error occurred during data ingestion: {str(e)}\")\n",
    "    raise e"
   ]
  },
  {
   "cell_type": "code",
   "execution_count": null,
   "metadata": {},
   "outputs": [],
   "source": []
  }
 ],
 "metadata": {
  "kernelspec": {
   "display_name": "venv",
   "language": "python",
   "name": "python3"
  },
  "language_info": {
   "codemirror_mode": {
    "name": "ipython",
    "version": 3
   },
   "file_extension": ".py",
   "mimetype": "text/x-python",
   "name": "python",
   "nbconvert_exporter": "python",
   "pygments_lexer": "ipython3",
   "version": "3.10.0"
  }
 },
 "nbformat": 4,
 "nbformat_minor": 2
}
