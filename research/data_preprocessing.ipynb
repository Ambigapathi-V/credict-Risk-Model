{
 "cells": [
  {
   "cell_type": "code",
   "execution_count": 1,
   "metadata": {},
   "outputs": [],
   "source": [
    "import os"
   ]
  },
  {
   "cell_type": "code",
   "execution_count": 2,
   "metadata": {},
   "outputs": [
    {
     "data": {
      "text/plain": [
       "'c:\\\\Users\\\\ambig\\\\jupiter_notebook\\\\Projects\\\\Credit-Risk-Model\\\\research'"
      ]
     },
     "execution_count": 2,
     "metadata": {},
     "output_type": "execute_result"
    }
   ],
   "source": [
    "%pwd"
   ]
  },
  {
   "cell_type": "code",
   "execution_count": 3,
   "metadata": {},
   "outputs": [],
   "source": [
    "os.chdir(\"../\")"
   ]
  },
  {
   "cell_type": "code",
   "execution_count": 4,
   "metadata": {},
   "outputs": [
    {
     "data": {
      "text/plain": [
       "'c:\\\\Users\\\\ambig\\\\jupiter_notebook\\\\Projects\\\\Credit-Risk-Model'"
      ]
     },
     "execution_count": 4,
     "metadata": {},
     "output_type": "execute_result"
    }
   ],
   "source": [
    "%pwd"
   ]
  },
  {
   "cell_type": "code",
   "execution_count": 20,
   "metadata": {},
   "outputs": [],
   "source": [
    "from dataclasses import dataclass\n",
    "from pathlib import Path\n",
    "\n",
    "@dataclass\n",
    "class DataPreprocessingConfig:\n",
    "    root_dir : Path\n",
    "    input_data : Path\n",
    "    output_data : Path\n",
    "    "
   ]
  },
  {
   "cell_type": "code",
   "execution_count": 21,
   "metadata": {},
   "outputs": [],
   "source": [
    "from src.Credit_Risk_Model.constants import *\n",
    "from src.Credit_Risk_Model.utils.common import read_yaml,create_directories,load_df,save_df\n",
    "from  src.Credit_Risk_Model.logger import logger\n"
   ]
  },
  {
   "cell_type": "code",
   "execution_count": 22,
   "metadata": {},
   "outputs": [],
   "source": [
    "class ConfigurationManager:\n",
    "    def __init__(self,\n",
    "                 config_filepath = CONFIG_FILE_PATH,\n",
    "                 params_filepath = PARAMS_FILE_PATH,\n",
    "                 schema_filepath = SCHEMA_FILE_PATH):\n",
    "        self.config = read_yaml(config_filepath)\n",
    "        self.params = read_yaml(params_filepath)    \n",
    "        self.schema = read_yaml(schema_filepath)\n",
    "        \n",
    "        create_directories([self.config.artifacts_root])\n",
    "    \n",
    "    def get_data_ingestion_config(self) -> DataPreprocessingConfig:\n",
    "        config = self.config.data_preprocessing\n",
    "        create_directories([config.root_dir])\n",
    "        \n",
    "        data_preprocessing_cofig = DataPreprocessingConfig(\n",
    "            root_dir = Path(config.root_dir),\n",
    "            input_data = Path(config.input_data),\n",
    "            output_data = Path(config.output_data)\n",
    "        )\n",
    "        \n",
    "        return data_preprocessing_cofig"
   ]
  },
  {
   "cell_type": "code",
   "execution_count": 31,
   "metadata": {},
   "outputs": [],
   "source": [
    "import os\n",
    "import sys\n",
    "import pandas as pd\n",
    "from src.Credit_Risk_Model.logger import logger\n",
    "from src.Credit_Risk_Model.exception import CustomException\n",
    "import warnings\n",
    "warnings.filterwarnings('ignore')\n",
    "\n",
    "\n",
    "\n",
    "class DataPreprocessing:\n",
    "    def __init__(self, config :DataPreprocessingConfig):\n",
    "        self.input_data = config.input_data\n",
    "        self.output_data = config.output_data\n",
    "        \n",
    "    def data_preprocessing(self):\n",
    "        try:\n",
    "            df = load_df(self.input_data)\n",
    "            \n",
    "            # Makethe 'Default' column  into \"int\"\n",
    "            df['default'] = df['default'].astype(int)\n",
    "            logger.info(f\"The Valure counts for 'default' column: {df['default'].value_counts()}\")\n",
    "            \n",
    "            ## Check for missing values\n",
    "            for col in df.columns:\n",
    "                if df[col].isnull().sum() > 0:\n",
    "                    if df[col].dtype == 'object':\n",
    "                        # Fill missing values with 'Unknown'for categorical columns\n",
    "                        logger.warning(f\"Missing values found in column '{col}', replacing with 'Unknown'\")\n",
    "                        df[col].fillna(df[col].mode()[0], inplace=True)\n",
    "                        logger.info(f\"Missing values replaced in column '{col}' with mode '{df[col].mode()[0]}'\")\n",
    "                    else:\n",
    "                        # Fill missing values with mean for numerical columns\n",
    "                        logger.warning(f\"Missing values found in column '{col}', replacing with mean\")\n",
    "                        df[col].fillna(df[col].mean(), inplace=True)\n",
    "                        logger.info(f\"Missing values replaced in column '{col}' with mean '{df[col].mean()}'\")\n",
    "                else:\n",
    "                    logger.info(f\"No missing values found in column '{col}'\")\n",
    "\n",
    "            ## Check the Duplicate rows\n",
    "            if df.duplicated().sum() > 0:\n",
    "                logger.warning(f\"Duplicate rows found, dropping them\")\n",
    "                df.drop_duplicates(inplace=True)\n",
    "                logger.info(f\"Duplicate rows dropped\")\n",
    "                \n",
    "            else:\n",
    "                logger.info(f\"No duplicate rows found\")\n",
    "                \n",
    "            logger.info(df.columns)\n",
    "            \n",
    "            # Save the processed data\n",
    "            save_df(df=df, file_path=self.output_data)\n",
    "            logger.info(f\"Processed data saved to {self.output_data}\")\n",
    "        \n",
    "        except CustomException as e:\n",
    "            logger.error(f\"An error occurred during data preprocessing: {str(e)}\")\n",
    "            raise CustomException(e,sys)\n",
    "            \n",
    "    \n",
    "        \n",
    "        "
   ]
  },
  {
   "cell_type": "code",
   "execution_count": 32,
   "metadata": {},
   "outputs": [
    {
     "name": "stdout",
     "output_type": "stream",
     "text": [
      "[2024-11-06 11:26:53,461] INFO: common : 32] Successfully loaded yaml file: config\\config.yaml\n",
      "[2024-11-06 11:26:53,473] INFO: common : 32] Successfully loaded yaml file: params.yaml\n",
      "[2024-11-06 11:26:53,476] INFO: common : 32] Successfully loaded yaml file: schema.yaml\n",
      "[2024-11-06 11:26:53,477] INFO: common : 55] Created directory: artifacts\n",
      "[2024-11-06 11:26:53,479] INFO: common : 55] Created directory: artifacts/data_preprocessing\n",
      "[2024-11-06 11:26:53,673] INFO: common : 79] Successfully loaded DataFrame from: artifacts\\data_ingestion\\data.csv\n",
      "[2024-11-06 11:26:53,673] INFO: 4147190236 : 22] The Valure counts for 'default' column: default\n",
      "0    45703\n",
      "1     4297\n",
      "Name: count, dtype: int64\n",
      "[2024-11-06 11:26:53,673] INFO: 4147190236 : 38] No missing values found in column 'cust_id'\n",
      "[2024-11-06 11:26:53,688] INFO: 4147190236 : 38] No missing values found in column 'age'\n",
      "[2024-11-06 11:26:53,691] INFO: 4147190236 : 38] No missing values found in column 'gender'\n",
      "[2024-11-06 11:26:53,697] INFO: 4147190236 : 38] No missing values found in column 'marital_status'\n",
      "[2024-11-06 11:26:53,697] INFO: 4147190236 : 38] No missing values found in column 'employment_status'\n",
      "[2024-11-06 11:26:53,697] INFO: 4147190236 : 38] No missing values found in column 'income'\n",
      "[2024-11-06 11:26:53,697] INFO: 4147190236 : 38] No missing values found in column 'number_of_dependants'\n",
      "[2024-11-06 11:26:53,705] WARNING: 4147190236 : 29] Missing values found in column 'residence_type', replacing with 'Unknown'\n",
      "[2024-11-06 11:26:53,713] INFO: 4147190236 : 31] Missing values replaced in column 'residence_type' with mode 'Owned'\n",
      "[2024-11-06 11:26:53,713] INFO: 4147190236 : 38] No missing values found in column 'years_at_current_address'\n",
      "[2024-11-06 11:26:53,722] INFO: 4147190236 : 38] No missing values found in column 'city'\n",
      "[2024-11-06 11:26:53,726] INFO: 4147190236 : 38] No missing values found in column 'state'\n",
      "[2024-11-06 11:26:53,727] INFO: 4147190236 : 38] No missing values found in column 'zipcode'\n",
      "[2024-11-06 11:26:53,727] INFO: 4147190236 : 38] No missing values found in column 'loan_id'\n",
      "[2024-11-06 11:26:53,727] INFO: 4147190236 : 38] No missing values found in column 'loan_purpose'\n",
      "[2024-11-06 11:26:53,727] INFO: 4147190236 : 38] No missing values found in column 'loan_type'\n",
      "[2024-11-06 11:26:53,739] INFO: 4147190236 : 38] No missing values found in column 'sanction_amount'\n",
      "[2024-11-06 11:26:53,741] INFO: 4147190236 : 38] No missing values found in column 'loan_amount'\n",
      "[2024-11-06 11:26:53,743] INFO: 4147190236 : 38] No missing values found in column 'processing_fee'\n",
      "[2024-11-06 11:26:53,744] INFO: 4147190236 : 38] No missing values found in column 'gst'\n",
      "[2024-11-06 11:26:53,744] INFO: 4147190236 : 38] No missing values found in column 'net_disbursement'\n",
      "[2024-11-06 11:26:53,744] INFO: 4147190236 : 38] No missing values found in column 'loan_tenure_months'\n",
      "[2024-11-06 11:26:53,744] INFO: 4147190236 : 38] No missing values found in column 'principal_outstanding'\n",
      "[2024-11-06 11:26:53,744] INFO: 4147190236 : 38] No missing values found in column 'bank_balance_at_application'\n",
      "[2024-11-06 11:26:53,755] INFO: 4147190236 : 38] No missing values found in column 'disbursal_date'\n",
      "[2024-11-06 11:26:53,761] INFO: 4147190236 : 38] No missing values found in column 'installment_start_dt'\n",
      "[2024-11-06 11:26:53,765] INFO: 4147190236 : 38] No missing values found in column 'default'\n",
      "[2024-11-06 11:26:53,765] INFO: 4147190236 : 38] No missing values found in column 'number_of_open_accounts'\n",
      "[2024-11-06 11:26:53,765] INFO: 4147190236 : 38] No missing values found in column 'number_of_closed_accounts'\n",
      "[2024-11-06 11:26:53,765] INFO: 4147190236 : 38] No missing values found in column 'total_loan_months'\n",
      "[2024-11-06 11:26:53,773] INFO: 4147190236 : 38] No missing values found in column 'delinquent_months'\n",
      "[2024-11-06 11:26:53,776] INFO: 4147190236 : 38] No missing values found in column 'total_dpd'\n",
      "[2024-11-06 11:26:53,776] INFO: 4147190236 : 38] No missing values found in column 'enquiry_count'\n",
      "[2024-11-06 11:26:53,776] INFO: 4147190236 : 38] No missing values found in column 'credit_utilization_ratio'\n",
      "[2024-11-06 11:26:53,840] INFO: 4147190236 : 47] No duplicate rows found\n",
      "[2024-11-06 11:26:53,855] INFO: 4147190236 : 49] Index(['cust_id', 'age', 'gender', 'marital_status', 'employment_status',\n",
      "       'income', 'number_of_dependants', 'residence_type',\n",
      "       'years_at_current_address', 'city', 'state', 'zipcode', 'loan_id',\n",
      "       'loan_purpose', 'loan_type', 'sanction_amount', 'loan_amount',\n",
      "       'processing_fee', 'gst', 'net_disbursement', 'loan_tenure_months',\n",
      "       'principal_outstanding', 'bank_balance_at_application',\n",
      "       'disbursal_date', 'installment_start_dt', 'default',\n",
      "       'number_of_open_accounts', 'number_of_closed_accounts',\n",
      "       'total_loan_months', 'delinquent_months', 'total_dpd', 'enquiry_count',\n",
      "       'credit_utilization_ratio'],\n",
      "      dtype='object')\n",
      "[2024-11-06 11:26:54,432] INFO: common : 97] Successfully saved DataFrame to: artifacts\\data_preprocessing\\preprocessed_data.csv\n",
      "[2024-11-06 11:26:54,434] INFO: 4147190236 : 53] Processed data saved to artifacts\\data_preprocessing\\preprocessed_data.csv\n"
     ]
    }
   ],
   "source": [
    "config = ConfigurationManager()\n",
    "data_preprocessing_config = config.get_data_ingestion_config()\n",
    "\n",
    "preprocessing = DataPreprocessing(data_preprocessing_config)\n",
    "preprocessing.data_preprocessing()"
   ]
  },
  {
   "cell_type": "code",
   "execution_count": null,
   "metadata": {},
   "outputs": [],
   "source": []
  },
  {
   "cell_type": "code",
   "execution_count": null,
   "metadata": {},
   "outputs": [],
   "source": []
  }
 ],
 "metadata": {
  "kernelspec": {
   "display_name": "venv",
   "language": "python",
   "name": "python3"
  },
  "language_info": {
   "codemirror_mode": {
    "name": "ipython",
    "version": 3
   },
   "file_extension": ".py",
   "mimetype": "text/x-python",
   "name": "python",
   "nbconvert_exporter": "python",
   "pygments_lexer": "ipython3",
   "version": "3.10.0"
  }
 },
 "nbformat": 4,
 "nbformat_minor": 2
}
