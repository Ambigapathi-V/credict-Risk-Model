{
 "cells": [
  {
   "cell_type": "code",
   "execution_count": 1,
   "metadata": {},
   "outputs": [],
   "source": [
    "import os"
   ]
  },
  {
   "cell_type": "code",
   "execution_count": 2,
   "metadata": {},
   "outputs": [
    {
     "data": {
      "text/plain": [
       "'c:\\\\Users\\\\ambig\\\\jupiter_notebook\\\\Projects\\\\Credit-Risk-Model\\\\research'"
      ]
     },
     "execution_count": 2,
     "metadata": {},
     "output_type": "execute_result"
    }
   ],
   "source": [
    "%pwd"
   ]
  },
  {
   "cell_type": "code",
   "execution_count": 3,
   "metadata": {},
   "outputs": [],
   "source": [
    "os.chdir(\"../\")"
   ]
  },
  {
   "cell_type": "code",
   "execution_count": 4,
   "metadata": {},
   "outputs": [
    {
     "data": {
      "text/plain": [
       "'c:\\\\Users\\\\ambig\\\\jupiter_notebook\\\\Projects\\\\Credit-Risk-Model'"
      ]
     },
     "execution_count": 4,
     "metadata": {},
     "output_type": "execute_result"
    }
   ],
   "source": [
    "%pwd"
   ]
  },
  {
   "cell_type": "code",
   "execution_count": 12,
   "metadata": {},
   "outputs": [],
   "source": [
    "from dataclasses import dataclass\n",
    "from pathlib import  Path\n",
    "from typing import List\n",
    "\n",
    "@dataclass\n",
    "class DataCleaningConfig:\n",
    "    root_dir: Path\n",
    "    input_filepath : Path\n",
    "    test_path : Path\n",
    "    train_path : Path\n",
    "    columns_to_have : List[str]\n",
    "    params : dict\n",
    "    \n"
   ]
  },
  {
   "cell_type": "code",
   "execution_count": 13,
   "metadata": {},
   "outputs": [],
   "source": [
    "from src.Credit_Risk_Model.utils.common import read_yaml,create_directories,load_df,save_df\n",
    "from src.Credit_Risk_Model.constants import *\n",
    "from src.Credit_Risk_Model.logger import logger"
   ]
  },
  {
   "cell_type": "code",
   "execution_count": 14,
   "metadata": {},
   "outputs": [],
   "source": [
    "class ConfigurationManager:\n",
    "    def __init__(self,\n",
    "                 config_filepath = CONFIG_FILE_PATH,\n",
    "                 params_filepath = PARAMS_FILE_PATH,\n",
    "                 schema_filepath = SCHEMA_FILE_PATH\n",
    "                 ):\n",
    "        self.config = read_yaml(config_filepath)\n",
    "        self.params = read_yaml(params_filepath)\n",
    "        self.schema = read_yaml(schema_filepath)\n",
    "        \n",
    "        create_directories([self.config.artifacts_root])\n",
    "\n",
    "    def get_data_cleaning_config(self) -> DataCleaningConfig:\n",
    "        config = self.config['data_cleaning']\n",
    "        params = self.params['data_cleaning']\n",
    "        create_directories([config.root_dir])\n",
    "        \n",
    "        data_cleaning_config = DataCleaningConfig(\n",
    "            root_dir = Path(config.root_dir),\n",
    "            input_filepath = Path(config.input_filepath),\n",
    "            test_path = Path(config.test_path),\n",
    "            train_path = Path(config.train_path),\n",
    "            columns_to_have = params.columns_to_have,\n",
    "            params = params,\n",
    "        )\n",
    "        return data_cleaning_config"
   ]
  },
  {
   "cell_type": "code",
   "execution_count": 21,
   "metadata": {},
   "outputs": [],
   "source": [
    "import os\n",
    "import sys\n",
    "import pandas as pd\n",
    "from src.Credit_Risk_Model.logger import logger\n",
    "from src.Credit_Risk_Model.exception import CustomException\n",
    "from statsmodels.stats.outliers_influence import variance_inflation_factor\n",
    "from sklearn.model_selection import train_test_split\n",
    "import warnings\n",
    "from sklearn.preprocessing import MinMaxScaler\n",
    "import numpy as np\n",
    "warnings.filterwarnings('ignore')\n",
    "\n",
    "\n",
    "class DataCleaning:\n",
    "    def __init__(self, config: DataCleaningConfig):\n",
    "        self.input_filepath = config.input_filepath\n",
    "        self.test_path = config.test_path\n",
    "        self.train_path = config.train_path\n",
    "        self.params = config.params\n",
    "        \n",
    "        \n",
    "    def initiate_train_test_split(self, df):\n",
    "        try:\n",
    "            logger.info(\"Initiating train test split...\")\n",
    "            train_df, test_df = train_test_split(df, test_size=0.2, random_state=42)\n",
    "            logger.info(\"Train test split completed successfully.\")\n",
    "            return train_df, test_df\n",
    "        except CustomException as e:\n",
    "            logger.error(f\"Error occurred while initiating train test split: {str(e)}\")\n",
    "            raise CustomException(e,sys)\n",
    "        \n",
    "    def columns_removal(self, df):\n",
    "        try:\n",
    "            logger.info(\"Removing columns...\")\n",
    "            columns_to_have = self.params.columns_to_have\n",
    "            df = df.drop(columns_to_have, axis=1)\n",
    "            logger.info(\"Columns removed successfully.\")\n",
    "            return df\n",
    "        except CustomException as e:\n",
    "            logger.error(f\"Error occurred while removing columns: {str(e)}\")\n",
    "            raise CustomException(e,sys)\n",
    "        \n",
    "    \n",
    "    def data_cleaning(self):\n",
    "        try:\n",
    "            df = load_df(self.input_filepath)\n",
    "            train_df, test_df = self.initiate_train_test_split(df)\n",
    "            logger.info(f\"Train_df :{test_df.columns}\")\n",
    "            # Outlier Removal: Processing Fee\n",
    "            train_df[(train_df.processing_fee / train_df.loan_amount) <= 0.03][[\"loan_amount\",\"processing_fee\"]]\n",
    "            test_df[(test_df.processing_fee / test_df.loan_amount) <= 0.03][[\"loan_amount\", \"processing_fee\"]]\n",
    "\n",
    "            logger.info(f\" After outlier removal train_df :{train_df.shape}\")\n",
    "            logger.info(f\" After outlier removal test_df :{test_df.shape}\")\n",
    "            \n",
    "            # Use other business rules for data validation\n",
    "            # Rule 1: GST should not be more than 20%\n",
    "            GST = train_df[(train_df.gst/train_df.loan_amount)>0.2].shape\n",
    "            logger.info(f\"Rule 1: GST should not be more than 20% :{GST}\")\n",
    "            \n",
    "            # Rule 2: Net disbursement should not be higher than loan_amount\n",
    "            Net = train_df[train_df.net_disbursement>train_df.loan_amount].shape\n",
    "            logger.info(f\"Rule 2: Net disbursement should not be higher than loan_amount :{Net}\")\n",
    "            \n",
    "            # Fixing Loan Purpose column\n",
    "            train_df['loan_purpose'] = train_df['loan_purpose'].replace('Personaal', 'Personal')\n",
    "            test_df['loan_purpose'] = test_df['loan_purpose'].replace('Personaal', 'Personal')\n",
    "            logger.info(f\"Rule 3 : Fixed loan_purpose column :{train_df['loan_purpose'].value_counts()}\")\n",
    "            \n",
    "            # Generate loan to income (LTI) Ratio\n",
    "            train_df['loan_to_income'] = round(train_df['loan_amount'] / train_df['income'],2)\n",
    "            test_df['loan_to_income'] = round(test_df['loan_amount'] / test_df['income'],2)\n",
    "            logger.info(f\"Rule 4 : Generated loan_to_income column(LTI)\")\n",
    "\n",
    "            # Generate Delinquency Ratio\n",
    "            train_df['delinquency_ratio'] = (train_df['delinquent_months']*100 / train_df['total_loan_months']).round(1)\n",
    "            test_df['delinquency_ratio'] = (test_df['delinquent_months']*100 / test_df['total_loan_months']).round(1)\n",
    "            logger.info(f\"Generated delinquency_ratio column :{train_df['delinquency_ratio'].describe()}\")\n",
    "            \n",
    "            # Generate Avg DPD Per Delinquency\n",
    "            train_df['avg_dpd_per_delinquency'] = np.where(\n",
    "                    train_df['delinquent_months'] != 0,\n",
    "                   (train_df['total_dpd'] / train_df['delinquent_months']).round(1),\n",
    "                    0\n",
    "                )\n",
    "\n",
    "            test_df['avg_dpd_per_delinquency'] = np.where(\n",
    "                    test_df['delinquent_months'] != 0,\n",
    "                    (test_df['total_dpd'] / test_df['delinquent_months']).round(1),\n",
    "                        0\n",
    "                )\n",
    "            \n",
    "            train_df = train_df.drop(['cust_id', 'loan_id'],axis=\"columns\")\n",
    "            test_df = test_df.drop(['cust_id', 'loan_id'],axis=\"columns\")\n",
    "            \n",
    "            # Remove columns that business contact person asked us to remove\n",
    "            train_df = self.columns_removal(train_df)\n",
    "            test_df = self.columns_removal(test_df)\n",
    "            \n",
    "            save_df(file_path=self.train_path,df=train_df)\n",
    "            save_df(file_path=self.test_path,df=test_df)\n",
    "            \n",
    "           \n",
    "            \n",
    "        except CustomException as e:\n",
    "            logger.error(f\"Error occurred while data cleaning: {str(e)}\")\n",
    "            raise CustomException(e,sys)\n"
   ]
  },
  {
   "cell_type": "code",
   "execution_count": null,
   "metadata": {},
   "outputs": [
    {
     "name": "stdout",
     "output_type": "stream",
     "text": [
      "[2024-11-10 10:47:39,664] INFO: common : 32] Successfully loaded yaml file: config\\config.yaml\n",
      "[2024-11-10 10:47:39,665] INFO: common : 32] Successfully loaded yaml file: params.yaml\n",
      "[2024-11-10 10:47:39,665] INFO: common : 32] Successfully loaded yaml file: schema.yaml\n",
      "[2024-11-10 10:47:39,665] INFO: common : 55] Created directory: artifacts\n",
      "[2024-11-10 10:47:39,674] INFO: common : 55] Created directory: artifacts/data_cleaning\n",
      "[2024-11-10 10:47:39,850] INFO: common : 79] Successfully loaded DataFrame from: artifacts\\data_preprocessing\\preprocessed_data.csv\n",
      "[2024-11-10 10:47:39,857] INFO: 4094972786 : 24] Initiating train test split...\n",
      "[2024-11-10 10:47:39,873] INFO: 4094972786 : 26] Train test split completed successfully.\n",
      "[2024-11-10 10:47:39,876] INFO: 4094972786 : 48] Train_df :Index(['cust_id', 'age', 'gender', 'marital_status', 'employment_status',\n",
      "       'income', 'number_of_dependants', 'residence_type',\n",
      "       'years_at_current_address', 'city', 'state', 'zipcode', 'loan_id',\n",
      "       'loan_purpose', 'loan_type', 'sanction_amount', 'loan_amount',\n",
      "       'processing_fee', 'gst', 'net_disbursement', 'loan_tenure_months',\n",
      "       'principal_outstanding', 'bank_balance_at_application',\n",
      "       'disbursal_date', 'installment_start_dt', 'default',\n",
      "       'number_of_open_accounts', 'number_of_closed_accounts',\n",
      "       'total_loan_months', 'delinquent_months', 'total_dpd', 'enquiry_count',\n",
      "       'credit_utilization_ratio'],\n",
      "      dtype='object')\n",
      "[2024-11-10 10:47:39,890] INFO: 4094972786 : 53]  After outlier removal train_df :(40000, 33)\n",
      "[2024-11-10 10:47:39,893] INFO: 4094972786 : 54]  After outlier removal test_df :(10000, 33)\n",
      "[2024-11-10 10:47:39,896] INFO: 4094972786 : 59] Rule 1: GST should not be more than 20% :(0, 33)\n",
      "[2024-11-10 10:47:39,897] INFO: 4094972786 : 63] Rule 2: Net disbursement should not be higher than loan_amount :(0, 33)\n",
      "[2024-11-10 10:47:39,907] INFO: 4094972786 : 68] Rule 3 : Fixed loan_purpose column :loan_purpose\n",
      "Personal     14037\n",
      "Home         12006\n",
      "Auto          7950\n",
      "Education     6007\n",
      "Name: count, dtype: int64\n",
      "[2024-11-10 10:47:39,910] INFO: 4094972786 : 73] Rule 4 : Generated loan_to_income column(LTI)\n",
      "[2024-11-10 10:47:39,910] INFO: 4094972786 : 78] Generated delinquency_ratio column :count    40000.000000\n",
      "mean        10.424123\n",
      "std         17.283345\n",
      "min          0.000000\n",
      "25%          0.000000\n",
      "50%          3.800000\n",
      "75%         13.200000\n",
      "max        100.000000\n",
      "Name: delinquency_ratio, dtype: float64\n",
      "[2024-11-10 10:47:39,926] INFO: 4094972786 : 34] Removing columns...\n",
      "[2024-11-10 10:47:39,938] INFO: 4094972786 : 37] Columns removed successfully.\n",
      "[2024-11-10 10:47:39,942] INFO: 4094972786 : 34] Removing columns...\n",
      "[2024-11-10 10:47:39,942] INFO: 4094972786 : 37] Columns removed successfully.\n",
      "[2024-11-10 10:47:40,292] INFO: common : 97] Successfully saved DataFrame to: artifacts\\data_cleaning\\train_data.csv\n",
      "[2024-11-10 10:47:40,367] INFO: common : 97] Successfully saved DataFrame to: artifacts\\data_cleaning\\test_data.csv\n"
     ]
    }
   ],
   "source": [
    "config = ConfigurationManager()\n",
    "data_cleaning = config.get_data_cleaning_config()\n",
    "data_cleaner = DataCleaning(data_cleaning)\n",
    "cleaned_data = data_cleaner.data_cleaning()"
   ]
  },
  {
   "cell_type": "markdown",
   "metadata": {},
   "source": []
  },
  {
   "cell_type": "code",
   "execution_count": null,
   "metadata": {},
   "outputs": [],
   "source": []
  },
  {
   "cell_type": "code",
   "execution_count": null,
   "metadata": {},
   "outputs": [],
   "source": []
  }
 ],
 "metadata": {
  "kernelspec": {
   "display_name": "venv",
   "language": "python",
   "name": "python3"
  },
  "language_info": {
   "codemirror_mode": {
    "name": "ipython",
    "version": 3
   },
   "file_extension": ".py",
   "mimetype": "text/x-python",
   "name": "python",
   "nbconvert_exporter": "python",
   "pygments_lexer": "ipython3",
   "version": "3.10.0"
  }
 },
 "nbformat": 4,
 "nbformat_minor": 2
}
